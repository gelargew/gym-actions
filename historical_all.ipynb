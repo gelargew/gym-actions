{
 "cells": [
  {
   "cell_type": "code",
   "execution_count": 2,
   "metadata": {},
   "outputs": [],
   "source": [
    "import requests\n",
    "import json\n",
    "\n",
    "\n",
    "with open('countries_info.json', 'r') as f:\n",
    "    countries = json.load(f)\n",
    "\n",
    "ls = ','.join([country for country in countries])\n",
    "url = f'https://disease.sh/v3/covid-19/historical/{ls}?lastdays=360'\n",
    "data = requests.get(url)\n",
    "data = json.loads(data.text)"
   ]
  },
  {
   "cell_type": "code",
   "execution_count": 27,
   "metadata": {},
   "outputs": [],
   "source": [
    "output = {}\n",
    "for country in data:    \n",
    "    if country:\n",
    "        try:\n",
    "            country_name = country['country']\n",
    "            output[country_name] = {\n",
    "                'cases': country['timeline']['cases'],\n",
    "                'deaths': country['timeline']['deaths']\n",
    "            }\n",
    "        except (ValueError, KeyError):\n",
    "            continue       \n"
   ]
  },
  {
   "cell_type": "code",
   "execution_count": 28,
   "metadata": {},
   "outputs": [],
   "source": [
    "with open('countries_info.json', 'w') as f:\n",
    "    json.dump(countries, f, indent=4)\n"
   ]
  }
 ],
 "metadata": {
  "interpreter": {
   "hash": "5d240ba0dc525c389faa33f5dcce5b4f32b6d6aa6d70d6d2dd929bd2b09ab69f"
  },
  "kernelspec": {
   "display_name": "Python 3.10.2 64-bit",
   "language": "python",
   "name": "python3"
  },
  "language_info": {
   "codemirror_mode": {
    "name": "ipython",
    "version": 3
   },
   "file_extension": ".py",
   "mimetype": "text/x-python",
   "name": "python",
   "nbconvert_exporter": "python",
   "pygments_lexer": "ipython3",
   "version": "3.10.2"
  },
  "orig_nbformat": 4
 },
 "nbformat": 4,
 "nbformat_minor": 2
}
